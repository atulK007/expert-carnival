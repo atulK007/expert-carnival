{
 "cells": [
  {
   "cell_type": "code",
   "execution_count": 3,
   "metadata": {},
   "outputs": [
    {
     "name": "stdout",
     "output_type": "stream",
     "text": [
      "this is my poem line1\n",
      "\n",
      "this is my poem line2\n",
      "\n",
      "this is my poem line3\n",
      "\n",
      "this is my poem line4\n",
      "\n",
      "\n",
      "\n",
      "\n",
      "\n",
      "this is my poem para 2 line1\n",
      "\n",
      "this is my poem para 2 line2\n",
      "\n",
      "this is my poem para 2 line3\n",
      "\n",
      "this is my poem para 2 line4\n"
     ]
    }
   ],
   "source": [
    "# Write a function in python to read the content from \n",
    "# a text file \"poem.txt\" line by line and display the same on screen.\n",
    "\n",
    "with open('poem.txt', 'r') as f:\n",
    "    lst = f.readlines()\n",
    "    for ele in lst:\n",
    "        print(ele)"
   ]
  },
  {
   "cell_type": "code",
   "execution_count": 9,
   "metadata": {},
   "outputs": [
    {
     "name": "stdout",
     "output_type": "stream",
     "text": [
      "3\n"
     ]
    }
   ],
   "source": [
    "# Write a function in python to count the number of lines \n",
    "# from a text file \"story.txt\" which is not starting with an alphabet \"T\". \n",
    "\n",
    "# Example: If the file \"story.txt\" contains the following lines: A boy is playing there.\n",
    "# There is a playground.\n",
    "# An aeroplane is in the sky.\n",
    "# The sky is pink.\n",
    "# Alphabets and numbers are allowed in the password.\n",
    "# The function should display the output as 3\n",
    "\n",
    "with open('story.txt', 'r') as f:\n",
    "    count = 0\n",
    "    lst = f.readlines()\n",
    "    \n",
    "    for ele in lst:\n",
    "        if ele[0] != \"T\":\n",
    "            count +=1\n",
    "    print(count)"
   ]
  },
  {
   "cell_type": "code",
   "execution_count": 45,
   "metadata": {},
   "outputs": [
    {
     "name": "stdout",
     "output_type": "stream",
     "text": [
      "27\n"
     ]
    }
   ],
   "source": [
    "# Write a function in Python to count and display the total number of words in a text file.\n",
    "\n",
    "def wordCount(flname):\n",
    "    with open(flname, 'r') as f:\n",
    "        count = 0\n",
    "        content = f.read()   \n",
    "        for ele in content:   \n",
    "            if ele == ' ' or  ele == '\\n':                \n",
    "                count += 1\n",
    "        \n",
    "        return (count+1)\n",
    "\n",
    "print(wordCount('story.txt'))"
   ]
  },
  {
   "cell_type": "code",
   "execution_count": 59,
   "metadata": {},
   "outputs": [
    {
     "name": "stdout",
     "output_type": "stream",
     "text": [
      "5\n"
     ]
    }
   ],
   "source": [
    "# Write a function in Python to read lines from a text file \"notes.txt\". \n",
    "# Your function should find and display the occurrence of the word \"the\".\n",
    "\n",
    "# For example: If the content of the file is:\n",
    "# \"India is the fastest-growing economy. India is looking for more investments around the globe. The whole world is looking at India as a great market. Most of the Indians can foresee the heights that India is capable of reaching.\"\n",
    "\n",
    "# The output should be 5.\n",
    "\n",
    "def wordIdentify(flname):\n",
    "    with open(flname, 'r') as f:\n",
    "        content = f.read()\n",
    "        substr = 'the'\n",
    "        count = content.lower().count(substr)\n",
    "        return (count)\n",
    "        \n",
    "   \n",
    "print(wordIdentify('notes.txt')) \n"
   ]
  },
  {
   "cell_type": "code",
   "execution_count": 58,
   "metadata": {},
   "outputs": [
    {
     "name": "stdout",
     "output_type": "stream",
     "text": [
      "A\n",
      "boy\n",
      "is\n",
      "is\n",
      "a\n",
      "is\n",
      "in\n",
      "the\n",
      "sky\n",
      "is\n",
      "and\n",
      "are\n",
      "in\n",
      "the\n"
     ]
    }
   ],
   "source": [
    "# Write a function display_words() in python to read lines from a text file \"story.txt\", \n",
    "# and display those words, which are less than 4 characters.\n",
    "\n",
    "def display_words(flname):\n",
    "    with open(flname, 'r') as f:\n",
    "        content = f.read()\n",
    "        res = []\n",
    "        lst = content.split(' ')\n",
    "        for ele in lst:\n",
    "            if len(ele) < 4:\n",
    "                res.append(ele)\n",
    "        return res\n",
    "        \n",
    "\n",
    "ls = display_words('story.txt')\n",
    "for ele in ls:\n",
    "    print(ele) \n",
    "\n"
   ]
  },
  {
   "cell_type": "code",
   "execution_count": 76,
   "metadata": {},
   "outputs": [
    {
     "name": "stdout",
     "output_type": "stream",
     "text": [
      "Count of this :: 3\n",
      "Count of these :: 2\n"
     ]
    }
   ],
   "source": [
    "# Write a function in Python to count the words \"this\" and \"these\" present in a text file \"article.txt\". \n",
    "# [Note that the words \"this\" and \"these\" are complete words] \n",
    "\n",
    "def display_words(flname):\n",
    "    with open(flname, 'r') as f:\n",
    "        content = f.read()\n",
    "        resThis = []\n",
    "        resThese = []\n",
    "        lst = content.lower().split(' ')\n",
    "        for ele in lst:\n",
    "            if ele == 'this':\n",
    "                resThis.append(ele)\n",
    "            elif ele == 'these':\n",
    "                resThese.append(ele)\n",
    "        \n",
    "        return resThis, resThese\n",
    "        \n",
    "\n",
    "ls = display_words('article.txt')\n",
    "print(\"Count of this ::\" , len(ls[0]))\n",
    "print(\"Count of these ::\" , len(ls[1]))"
   ]
  },
  {
   "cell_type": "code",
   "execution_count": 97,
   "metadata": {},
   "outputs": [
    {
     "name": "stdout",
     "output_type": "stream",
     "text": [
      "Count of words ending with e :: 7\n"
     ]
    }
   ],
   "source": [
    "# Write a function in Python to count words in a text file those are ending with alphabet \"e\"\n",
    "\n",
    "\n",
    "def endsWithE(flname):\n",
    "    with open(flname, 'r') as f:\n",
    "        content = f.read()\n",
    "        res = []\n",
    "        lst = content.lower().split(' ')\n",
    "        for ele in lst:\n",
    "            if ele[-1] == 'e':\n",
    "                res.append(ele)\n",
    "            elif len(ele) > 1 and (ele[-2] == 'e' and ele[-1] == '.'):\n",
    "                res.append(ele)\n",
    "        return res\n",
    "        \n",
    "\n",
    "\n",
    "ls = endsWithE('frome.txt')\n",
    "print(\"Count of words ending with e ::\" , len(ls))"
   ]
  },
  {
   "cell_type": "code",
   "execution_count": 99,
   "metadata": {},
   "outputs": [
    {
     "name": "stdout",
     "output_type": "stream",
     "text": [
      "5\n"
     ]
    }
   ],
   "source": [
    "# Write a function in Python to count uppercase character in a text file.\n",
    "\n",
    "\n",
    "def isUpperChar(flname):\n",
    "    with open(flname, 'r') as f:\n",
    "        content = f.read()\n",
    "        count = 0\n",
    "        for ele in content:\n",
    "            if ele.isupper():\n",
    "                count +=1\n",
    "            \n",
    "        return count\n",
    "    \n",
    "print(isUpperChar('frome.txt'))"
   ]
  },
  {
   "cell_type": "code",
   "execution_count": 100,
   "metadata": {},
   "outputs": [
    {
     "name": "stdout",
     "output_type": "stream",
     "text": [
      "T#H#E# #W#O#R#L#D# #I#S# #R#O#U#N#D#\n"
     ]
    }
   ],
   "source": [
    "# A text file named \"matter.txt\" contains some text, which needs to be displayed such that \n",
    "# every next character is separated by a symbol \"#\". \n",
    "# Write a function definition for hash_display() in Python that would display \n",
    "# the entire content of the file matter.txt in the desired format.\n",
    "\n",
    "# Example :\n",
    "# If the file matter.txt has the following content stored in it :\n",
    "# THE WORLD IS ROUND\n",
    "\n",
    "# The function hash_display() should display the following content :\n",
    "# T#H#E# #W#O#R#L#D# #I#S# #R#O#U#N#D#\n",
    "\n",
    "\n",
    "def hash_display(flname):\n",
    "    with open(flname, 'r') as f:\n",
    "        content = f.read()\n",
    "        resContent = ''\n",
    "        for ele in content:\n",
    "            resContent += ele+\"#\"\n",
    "        \n",
    "            \n",
    "        return resContent\n",
    "    \n",
    "print(hash_display('matters.txt'))\n",
    "\n"
   ]
  },
  {
   "cell_type": "code",
   "execution_count": 102,
   "metadata": {},
   "outputs": [
    {
     "name": "stdout",
     "output_type": "stream",
     "text": [
      "WELL, THIS IS A WORD BY ITSELF. YOU COULD STRETCH THIS TO BE A SENTENCE\n"
     ]
    }
   ],
   "source": [
    "# Aditi has used a text editing software to type some text. After saving the article as WORDS.TXT, \n",
    "# she realised that she has wrongly typed alphabet J in place of alphabet I everywhere in the article.\n",
    "# Write a function definition for JTOI() in Python that would display the corrected version of entire content \n",
    "# of the file WORDS.TXT with all the alphabets \"J\" to be displayed as an alphabet \"I\" on screen.\n",
    "\n",
    "# Note: Assuming that WORD.TXT does not contain any J alphabet otherwise.\n",
    "\n",
    "# Example:\n",
    "# If Aditi has stored the following content in the file WORDS.TXT:\n",
    "# WELL, THJS JS A WORD BY JTSELF. YOU COULD STRETCH THJS TO BE A SENTENCE\n",
    "# The function JTOI() should display the following content:\n",
    "# WELL, THIS IS A WORD BY ITSELF. YOU COULD STRETCH THIS TO BE A SENTENCE\n",
    "\n",
    "def JTOI(flname):\n",
    "    with open(flname, 'r') as f:\n",
    "        content = f.read()\n",
    "        resContent = ''\n",
    "        for ele in content:\n",
    "            if(ele == 'J'):\n",
    "                resContent += \"I\"\n",
    "            elif(ele == 'j'):\n",
    "                resContent += \"i\"\n",
    "            else:\n",
    "                resContent += ele\n",
    "        \n",
    "            \n",
    "        return resContent\n",
    "    \n",
    "print(JTOI('WORDS.TXT'))"
   ]
  },
  {
   "cell_type": "code",
   "execution_count": 112,
   "metadata": {},
   "outputs": [
    {
     "name": "stdout",
     "output_type": "stream",
     "text": [
      "A or a: count : 4\n",
      "M or m: count : 2\n"
     ]
    }
   ],
   "source": [
    "# Write a function AMCount() in Python, which should read each character of a text file STORY.TXT, \n",
    "# should count and display the occurance of alphabets A and M (including small cases a and m too).\n",
    "# For Example:\n",
    "# If the file content is as follows:\n",
    "# Updated information\n",
    "# As simplified by official websites.\n",
    "# The EUCount() function should display the output as:\n",
    "# A or a:4\n",
    "# M or m :2\n",
    "\n",
    "def AMCount(flname):\n",
    "    with open(flname, 'r') as f:\n",
    "\n",
    "        content = f.read()\n",
    "        resA = []\n",
    "        resM = []\n",
    "        for ele in content.lower():\n",
    "            \n",
    "            if ele == 'a':\n",
    "                resA.append(ele)\n",
    "            elif ele == 'm':\n",
    "                resM.append(ele)            \n",
    "        return resA, resM\n",
    "    \n",
    "\n",
    "ls = AMCount('STORY2.TXT')\n",
    "print('A or a: count :', len(ls[0]))\n",
    "print('M or m: count :', len(ls[1]))"
   ]
  },
  {
   "cell_type": "code",
   "execution_count": 140,
   "metadata": {},
   "outputs": [
    {
     "name": "stdout",
     "output_type": "stream",
     "text": [
      "4\n"
     ]
    }
   ],
   "source": [
    "# A binary file \"Book.dat\" has structure [BookNo, Book_Name, Author, Price].\n",
    "# i. Write a user defined function createFile() to input data for a record and add to Book.dat.\n",
    "# ii. Write a function countRec(Author) in Python which accepts the Author name as parameter \n",
    "# and count and return number of books by the given Author are stored in the binary file \"Book.dat\"\n",
    "\n",
    "flname = \"Book.dat\"\n",
    "def createFile(ls):\n",
    "    with open(flname, 'a+') as f:\n",
    "        st = str(ls[0])  + ', ' + ls[1] + ', ' +ls[2] + ', ' + str(ls[3])\n",
    "        f.write('\\n')\n",
    "        f.write(st)\n",
    "\n",
    "\n",
    "def countRec(author):\n",
    "    count = 0\n",
    "    with open(flname, 'r') as f1:\n",
    "        li = f1.readlines()\n",
    "        resList = []\n",
    "        for ele in li:\n",
    "            lt = ele.split(',')\n",
    "            if author == lt[2].strip():\n",
    "                count +=1\n",
    "        return count\n",
    "        \n",
    "    \n",
    "\n",
    "lst = [5, 'B5', 'A2', 500]\n",
    "createFile(lst)\n",
    "print(countRec('A2'))"
   ]
  },
  {
   "cell_type": "code",
   "execution_count": 139,
   "metadata": {},
   "outputs": [
    {
     "name": "stdout",
     "output_type": "stream",
     "text": [
      "1, Atul, 76\n",
      "\n",
      "2, Akansha, 90\n",
      "\n",
      "5, Ajay, 80\n",
      "Count of student who secured more than 75% : 3\n"
     ]
    }
   ],
   "source": [
    "# A binary file \"STUDENT.DAT\" has structure (admission_number, Name, Percentage). \n",
    "# Write a function count_rec() in Python that would read contents of the file \"STUDENT.DAT\" \n",
    "# and display the details of those students whose percentage is above 75. \n",
    "# Also display number of students scoring above 75%\n",
    "\n",
    "flname = \"STUDENT.DAT\"\n",
    "def count_rec():\n",
    "    count = 0\n",
    "    with open(flname, 'r') as f1:\n",
    "        li = f1.readlines()\n",
    "        resList = []\n",
    "        for ele in li:\n",
    "            lt = ele.split(',')\n",
    "            if int(lt[2].strip()) > 75:\n",
    "                resList.append(ele)\n",
    "                count +=1\n",
    "        return resList, count\n",
    "        \n",
    "    \n",
    "\n",
    "lst = count_rec()\n",
    "for el in lst[0]:\n",
    "    print(el)\n",
    "print('Count of student who secured more than 75% :', lst[1])"
   ]
  },
  {
   "cell_type": "code",
   "execution_count": 143,
   "metadata": {},
   "outputs": [
    {
     "name": "stdout",
     "output_type": "stream",
     "text": [
      "1, Atul, 76000\n",
      "\n",
      "2, Akansha, 90000\n",
      "\n",
      "5, Ajay, 80000\n",
      "\n",
      "10, Arun, 45000\n"
     ]
    }
   ],
   "source": [
    "# Given a binary file employee.dat, created using dictionary object having keys: (empcode, name, and salary)\n",
    "\n",
    "# Write a python function that add one more record at the end of file.\n",
    "# Write a python function that display all employee records whose salary is more that 30000\n",
    "\n",
    "flname = \"employee.dat\"\n",
    "def createEmpFile(ls):\n",
    "    with open(flname, 'a+') as f:\n",
    "        st = str(ls[0])  + ', ' + ls[1] + ', ' + str(ls[2])\n",
    "        f.write('\\n')\n",
    "        f.write(st)\n",
    "\n",
    "\n",
    "def dispRec():\n",
    "    count = 0\n",
    "    with open(flname, 'r') as f1:\n",
    "        li = f1.readlines()\n",
    "        resList = []\n",
    "        for ele in li:\n",
    "            lt = ele.split(',')\n",
    "            if int(lt[2].strip()) > 30000:\n",
    "                resList.append(ele)\n",
    "        return resList\n",
    "    \n",
    "l = [10, 'Arun', 45000]\n",
    "createEmpFile(l)\n",
    "r = dispRec()\n",
    "for el in r:\n",
    "    print(el)\n"
   ]
  },
  {
   "cell_type": "code",
   "execution_count": 144,
   "metadata": {},
   "outputs": [
    {
     "name": "stdout",
     "output_type": "stream",
     "text": [
      "1005, Ajay, LB3, 80000\n",
      "\n"
     ]
    }
   ],
   "source": [
    "# Write a function to search and display details of student whose rollno is '1005' \n",
    "# from the binary file student.dat having structure [rollno, name, class and fees].\n",
    "\n",
    "\n",
    "flname = \"student2.dat\"\n",
    "def dispStudentRec():\n",
    "    count = 0\n",
    "    with open(flname, 'r') as f1:\n",
    "        li = f1.readlines()\n",
    "        resList = []\n",
    "        for ele in li:\n",
    "            lt = ele.split(',')\n",
    "            if int(lt[0].strip()) == 1005:\n",
    "                resList.append(ele)\n",
    "        return resList\n",
    "    \n",
    "\n",
    "r = dispStudentRec()\n",
    "for el in r:\n",
    "    print(el)"
   ]
  },
  {
   "cell_type": "code",
   "execution_count": 145,
   "metadata": {},
   "outputs": [
    {
     "name": "stdout",
     "output_type": "stream",
     "text": [
      "340000\n"
     ]
    }
   ],
   "source": [
    "# A binary file school.dat has structure(rollno, name, class, fees)\n",
    "\n",
    "# Write a definition for function total_fees( ) that reads each object of file and calculate \n",
    "# the total fees of students and display the same.\n",
    "\n",
    "flname = \"student2.dat\"\n",
    "def dispTotalFee():\n",
    "    count = 0\n",
    "    with open(flname, 'r') as f1:\n",
    "        li = f1.readlines()\n",
    "        resList = []\n",
    "        for ele in li:\n",
    "            lt = ele.split(',')\n",
    "            count += int(lt[3].strip())\n",
    "            \n",
    "        return count\n",
    "    \n",
    "\n",
    "print(dispTotalFee())\n"
   ]
  },
  {
   "cell_type": "code",
   "execution_count": 158,
   "metadata": {},
   "outputs": [
    {
     "name": "stdout",
     "output_type": "stream",
     "text": [
      "AUS AF Australia 7500\n",
      "\n",
      "RSA ABD South Africa 7500\n",
      "RSA ABD South Africa 7500\n",
      "Number of player from the selected country:  1\n"
     ]
    }
   ],
   "source": [
    "# A binary file players.dat, containing records of following list format: [code, name, country and total runs]\n",
    "\n",
    "# 1. Write a python function that display all records where player name starts from 'A'\n",
    "# 2. Write a python function that accept country as an argument and count and display \n",
    "#     the number of players of that country.\n",
    "# 3. Write a python function that add one record at the end of file.\n",
    "\n",
    "flname = \"players.dat\"\n",
    "def dispPlayersWithNameA():\n",
    "    count = 0\n",
    "    with open(flname, 'r') as f1:\n",
    "        li = f1.readlines()\n",
    "        resList = []\n",
    "        for ele in li:\n",
    "            lt = ele.split(',')\n",
    "            if (lt[1].strip())[0] == 'A' or (lt[1].strip())[0] == 'a':\n",
    "                resList.append(lt)\n",
    "            \n",
    "        return resList\n",
    "\n",
    "def dispPlayersByCountry(country):\n",
    "    with open(flname, 'r') as f1:\n",
    "        li = f1.readlines()\n",
    "        resList = []\n",
    "        for ele in li:\n",
    "            lt = ele.split(',')\n",
    "            if (lt[2].strip()) == country:\n",
    "                resList.append(lt)\n",
    "            \n",
    "        return resList\n",
    "    \n",
    "\n",
    "def createPlayerFile(ls):\n",
    "    \n",
    "    with open(flname, 'a+') as f2:\n",
    "        st = str(ls[0])  + ', ' + ls[1] + ', ' + ls[2] + ', ' + str(ls[3])\n",
    "                                                            \n",
    "        f2.write('\\n')\n",
    "        f2.write(st)    \n",
    "    \n",
    "r = dispPlayersWithNameA()\n",
    "for el in r:\n",
    "    print(\"\".join(el))\n",
    "\n",
    "r2 = dispPlayersByCountry('South Africa')\n",
    "for el in r2:\n",
    "    print(\"\".join(el))\n",
    "print('Number of player from the selected country: ', len(r2))\n",
    "\n",
    "newPlayer = ['ENG', 'EM', 'England', 7000]\n",
    "createPlayerFile(newPlayer)                                                     \n",
    "                                                     \n"
   ]
  },
  {
   "cell_type": "code",
   "execution_count": 172,
   "metadata": {
    "ExecuteTime": {
     "end_time": "2021-05-29T10:46:59.140338Z",
     "start_time": "2021-05-29T10:46:59.135100Z"
    }
   },
   "outputs": [
    {
     "name": "stdout",
     "output_type": "stream",
     "text": [
      "n1, Basket Ball\n",
      "n2, Basket Ball\n",
      "n3, Football\n",
      "n4, Basket Ball\n",
      "n5, Cricket\n",
      "n6, Basket Ball\n",
      "n7, Cricket\n"
     ]
    }
   ],
   "source": [
    "# Given a binary file game.dat, containing records of following list format: [game_name, participants]\n",
    "\n",
    "# Write a function in Python that would read contents from the file game.dat and \n",
    "# creates a file named basket.dat copying only those records from game.dat where the game name is \"Basket Ball\"\n",
    "\n",
    "flname = \"game.dat\"\n",
    "def dispGames():\n",
    "    count = 0\n",
    "    with open(flname, 'r') as f1:\n",
    "        print(f1.read())\n",
    "       \n",
    "\n",
    "def dispDetailsByGame():\n",
    "    count = 0\n",
    "    with open(flname, 'r') as f1:\n",
    "        li = f1.readlines()\n",
    "        resList = []\n",
    "        for ele in li:\n",
    "            lt = ele.split(',')\n",
    "            if (lt[1].strip()) == 'Basket Ball':  \n",
    "                resList.append(lt)    \n",
    "        with open('basket.dat', 'a+') as f2: \n",
    "            for e in resList:\n",
    "                st = str(e[0])  + ', ' + e[1]\n",
    "                f2.write(st)\n",
    "dispGames()\n",
    "dispDetailsByGame()"
   ]
  }
 ],
 "metadata": {
  "kernelspec": {
   "display_name": "Python 3",
   "language": "python",
   "name": "python3"
  },
  "language_info": {
   "codemirror_mode": {
    "name": "ipython",
    "version": 3
   },
   "file_extension": ".py",
   "mimetype": "text/x-python",
   "name": "python",
   "nbconvert_exporter": "python",
   "pygments_lexer": "ipython3",
   "version": "3.8.8"
  }
 },
 "nbformat": 4,
 "nbformat_minor": 2
}
