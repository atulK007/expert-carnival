{
 "cells": [
  {
   "cell_type": "code",
   "execution_count": 6,
   "id": "210a6055",
   "metadata": {},
   "outputs": [
    {
     "name": "stdout",
     "output_type": "stream",
     "text": [
      "checking the type of the variable floatValue1 :  <class 'float'>\n",
      "checking the type of the variable floatValue2 :  <class 'float'>\n",
      "checking the id of the variable floatValue1 :  2239325602256\n",
      "checking the id of the variable floatValue2 :  2239325314864\n"
     ]
    }
   ],
   "source": [
    "# Q. Declare a float value and store it in a variable.\n",
    "# Check the type and print the id of the same.\n",
    "\n",
    "floatValue1 = 07.25\n",
    "floatValue2 = 31.26\n",
    "\n",
    "print(\"checking the type of the variable floatValue1 : \", type(floatValue1)) #<class 'float'>\n",
    "print(\"checking the type of the variable floatValue2 : \", type(floatValue2)) #<class 'float'>\n",
    "print(\"checking the id of the variable floatValue1 : \", id(floatValue1)) #2239325602256\n",
    "print(\"checking the id of the variable floatValue2 : \", id(floatValue2)) #2239325314864"
   ]
  },
  {
   "cell_type": "code",
   "execution_count": 9,
   "id": "f445c051",
   "metadata": {},
   "outputs": [
    {
     "name": "stdout",
     "output_type": "stream",
     "text": [
      "sum of first value and second value:  38.510000000000005\n",
      "difference between first value and second value:  -24.01\n",
      "product first value with second value:  226.63500000000002\n",
      "dividing first value with second value:  0.23192578374920025\n",
      "dividing first value with second value (floor):  0.0\n",
      "remainder after dividing first value with second value:  7.25\n",
      "quotient after dividing first value with second value:  0.0\n",
      "the result of first value to the power of second value : 7.837293037597192e+26\n"
     ]
    }
   ],
   "source": [
    "# Q. Arithmetic Operations on float\n",
    "# Take two different float values.\n",
    "# Store them in two different variables.\n",
    "floatValue1 = 07.25\n",
    "floatValue2 = 31.26\n",
    "\n",
    "# Do below operations on them:-\n",
    "# Find sum of both numbers\n",
    "print(\"sum of first value and second value: \", floatValue1 + floatValue2) #38.510000000000005\n",
    "\n",
    "# Find difference between them\n",
    "\n",
    "print(\"difference between first value and second value: \", floatValue1 - floatValue2) #-24.01\n",
    "\n",
    "# Find the product of both numbers.\n",
    "\n",
    "print(\"product first value with second value: \", floatValue1 * floatValue2) #226.63500000000002\n",
    "\n",
    "# Find value after dividing first num with second number\n",
    "\n",
    "print(\"dividing first value with second value: \", floatValue1 / floatValue2) # 0.23192578374920025\n",
    "print(\"dividing first value with second value (floor): \", floatValue1 // floatValue2) #0.0\n",
    "\n",
    "# Find the remainder after dividing first value with second value\n",
    "\n",
    "print(\"remainder after dividing first value with second value: \" , floatValue1 % floatValue2) #7.25\n",
    "\n",
    "# Find the quotient after dividing first value with second value\n",
    "quotient = floatValue1 // floatValue2\n",
    "print(\"quotient after dividing first value with second value: \" , quotient) #0\n",
    "\n",
    "# Find the result of first value to the power of second value.\n",
    "print(\"the result of first value to the power of second value :\" , floatValue1 ** floatValue2) #7.837293037597192e+26\n",
    "\n"
   ]
  },
  {
   "cell_type": "code",
   "execution_count": 19,
   "id": "f448a0b7",
   "metadata": {},
   "outputs": [
    {
     "name": "stdout",
     "output_type": "stream",
     "text": [
      "checking greater than :  False\n",
      "checking less than :  True\n",
      "checking greater than equal to :  False\n",
      "checking less than equal to :  True\n"
     ]
    }
   ],
   "source": [
    "# Q. Comparison Operators on float\n",
    "# Take two different float values.\n",
    "# Store them in two different variables.\n",
    "\n",
    "isVal1 =3.5\n",
    "isVal2 = 5.5\n",
    "\n",
    "# Comparison Operators on boolean values\n",
    "# Take two different boolean values.\n",
    "# Store them in two different variables.\n",
    "# Do below operations on them:-\n",
    "\n",
    "\n",
    "# Compare these two values with below operator:-\n",
    "# Greater than, '>'\n",
    "print(\"checking greater than : \", isVal1 > isVal2) #False\n",
    "\n",
    "# less than, '<'\n",
    "print(\"checking less than : \", isVal1 < isVal2) #True\n",
    "\n",
    "\n",
    "# Greater than or equal to, '>='\n",
    "print(\"checking greater than equal to : \", isVal1 >= isVal2) #False\n",
    "\n",
    "\n",
    "# Less than or equal to, '<='\n",
    "\n",
    "print(\"checking less than equal to : \", isVal1 <= isVal2) #True\n",
    "\n",
    "# Observe their output(return type should be boolean)\n",
    "#Answer: as we are checking condition, the answer is in boolean"
   ]
  },
  {
   "cell_type": "code",
   "execution_count": 12,
   "id": "a407e4ff",
   "metadata": {},
   "outputs": [
    {
     "name": "stdout",
     "output_type": "stream",
     "text": [
      "checking greater than equal to :  False\n",
      "checking greater than equal to :  True\n"
     ]
    }
   ],
   "source": [
    "# Q. Equality Operator\n",
    "# Take two different float values.\n",
    "# Store them in two different variables.\n",
    "\n",
    "isVal1 =3.5\n",
    "isVal2 = 5.5\n",
    "\n",
    "# Equate them using equality operators (==, !=)\n",
    "\n",
    "print(\"checking greater than equal to : \", isVal1 == isVal2) #False \n",
    "print(\"checking greater than equal to : \", isVal1 != isVal2) #True\n",
    "# Observe the output(return type should be boolean)\n",
    "#Answer: as we are checking condition, the answer is in boolean\n",
    "\n"
   ]
  },
  {
   "cell_type": "code",
   "execution_count": 13,
   "id": "818f5cad",
   "metadata": {},
   "outputs": [
    {
     "name": "stdout",
     "output_type": "stream",
     "text": [
      "20.3\n",
      "0.0\n",
      "0.0\n",
      "0.0\n",
      "10.2\n",
      "20.3\n",
      "20.3\n",
      "0.0\n",
      "False\n",
      "True\n"
     ]
    }
   ],
   "source": [
    "# Q. Logical operators\n",
    "# Observe the output of below code\n",
    "# Cross check the output manually\n",
    "print ( 10.20 and 20.30 ) #both are true and second value taken > Output is 20.3\n",
    "print ( 0.0 and 20.30 ) #First is false so first value taken->Output is 0.0\n",
    "print ( 20.30 and 0.0 ) #Goes to till second and second value is false so second is taken>Output is 0.0\n",
    "print ( 0.0 and 0.0 ) #First is false so first value is taken->Output is 0.0\n",
    "print ( 10.20 or 20.30 ) #First is True so first value is taken>Output is 10.2\n",
    "print ( 0.0 or 20.30 ) #Goes to till second and second is true second value is taken->Output is 20.3\n",
    "print ( 20.30 or 0.0 ) #First is True so first value is taken->Output is 20.3\n",
    "print ( 0.0 or 0.0 ) #Goes to till second and second is also false and second value is taken>Output is 0.0\n",
    "print ( not 10.20 ) #-Not of true is false->Output is False\n",
    "print ( not 0.0 ) #Not of false is True>Output is True"
   ]
  },
  {
   "cell_type": "code",
   "execution_count": 16,
   "id": "4a8e7d53",
   "metadata": {},
   "outputs": [
    {
     "name": "stdout",
     "output_type": "stream",
     "text": [
      "False\n",
      "True\n",
      "2239325602640\n",
      "2239325602640\n"
     ]
    }
   ],
   "source": [
    "# Q. What is the output of expression inside print statement. Cross check\n",
    "# before running the program.\n",
    "a = 10.20\n",
    "b = 10.20\n",
    "print (a is b) #True or False? True 10.20<256\n",
    "print (a is not b) #True or False? False\n",
    "\n",
    "\n",
    "# Why the Id of float values are different when the same value is\n",
    "# assigned to two different variables\n",
    "# ex: a = 10.5 b=10.5. but id will be same if I assign the variable\n",
    "# having float i.e. a=c then both a and c's Id are same\n",
    "\n",
    "print(id(a))\n",
    "print(id(b))\n",
    "\n",
    "#Answer: performance relate caching is supported for integers and not for floats so the ids are different.\n",
    "# when we say a = b,in this case, we are explicitly referring to the same object thus the same id is refered."
   ]
  },
  {
   "cell_type": "code",
   "execution_count": 17,
   "id": "986878a5",
   "metadata": {},
   "outputs": [],
   "source": [
    "# Q. Bitwise operation is not applicable between instances of float.\n",
    "# Why the Id of float values are different when the same value is\n",
    "# assigned to two different variables\n",
    "# ex: a = 10.5 b=10.5. but id will be same if I assign the variable\n",
    "# having float i.e. a=c then both a and c's Id are same\n",
    "\n",
    "#Answer: performance relate caching is supported for integers and not for floats so the ids are different.\n",
    "# when we say a = b,in this case, we are explicitly referring to the same object thus the same id is refered.\n",
    "\n",
    "# Object reusability concept is not applicable on float values.\n"
   ]
  },
  {
   "cell_type": "code",
   "execution_count": 20,
   "id": "e7720f98",
   "metadata": {},
   "outputs": [
    {
     "name": "stdout",
     "output_type": "stream",
     "text": [
      "True\n",
      "True\n",
      "True\n",
      "True\n",
      "True\n",
      "True\n"
     ]
    }
   ],
   "source": [
    "# Q. Membership operation\n",
    "# in, not in are two membership operators and it returns boolean value\n",
    "print ( '2.7' in 'Python2.7.8' ) #True\n",
    "print ( 10.20 in [ 10 , 10.20 , 10 + 20j , 'Python' ]) #True\n",
    "print ( 10.20 in ( 10 , 10.20 , 10 + 20j , 'Python' )) # True\n",
    "print ( 20.30 in { 1 , 20.30 , 30 + 40j }) # True\n",
    "print ( 2.3 in { 1 : 100 , 2.3 : 200 , 30 + 40j : 300 }) # True\n",
    "print ( 10 in range ( 20 )) # True - range is the number between 0 and 20. ) included and 20 is excluded"
   ]
  },
  {
   "cell_type": "code",
   "execution_count": null,
   "id": "9b284af4",
   "metadata": {},
   "outputs": [],
   "source": []
  },
  {
   "cell_type": "code",
   "execution_count": null,
   "id": "2eb66815",
   "metadata": {},
   "outputs": [],
   "source": []
  }
 ],
 "metadata": {
  "kernelspec": {
   "display_name": "Python 3",
   "language": "python",
   "name": "python3"
  },
  "language_info": {
   "codemirror_mode": {
    "name": "ipython",
    "version": 3
   },
   "file_extension": ".py",
   "mimetype": "text/x-python",
   "name": "python",
   "nbconvert_exporter": "python",
   "pygments_lexer": "ipython3",
   "version": "3.8.8"
  }
 },
 "nbformat": 4,
 "nbformat_minor": 5
}
