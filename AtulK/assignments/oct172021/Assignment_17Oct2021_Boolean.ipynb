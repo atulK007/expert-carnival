{
 "cells": [
  {
   "cell_type": "code",
   "execution_count": 57,
   "id": "2dbe8a52",
   "metadata": {},
   "outputs": [
    {
     "name": "stdout",
     "output_type": "stream",
     "text": [
      "True\n",
      "140718308382544\n",
      "<class 'bool'>\n"
     ]
    }
   ],
   "source": [
    "# Declare a boolean value and store it in a variable.\n",
    "# Check the type and print the id of the same.\n",
    "isLearnbayRightChoice = True\n",
    "print(isLearnbayRightChoice) #True\n",
    "print(id(isLearnbayRightChoice)) #140718308382544\n",
    "print(type(isLearnbayRightChoice)) #<class 'bool'>\n"
   ]
  },
  {
   "cell_type": "code",
   "execution_count": 59,
   "id": "2786086f",
   "metadata": {},
   "outputs": [
    {
     "name": "stdout",
     "output_type": "stream",
     "text": [
      "140718308665136\n",
      "140718308665136\n"
     ]
    }
   ],
   "source": [
    "# Take one boolean value between 0 - 256.\n",
    "# Assign it to two different variables.\n",
    "# Check the id of both the variables. It should come the same. Check why?\n",
    "\n",
    "isFirstDataPresentInSameLocation = 1\n",
    "isSecondDataPresentInSameLocation = 1\n",
    "print(id(isFirstDataPresentInSameLocation)) #140718308665136\n",
    "print(id(isSecondDataPresentInSameLocation)) #140718308665136\n",
    "\n",
    "# Answer: Based on the understanding, if the value is same then only one object is creted and is refered by other variables.\n",
    "# This hold true for numbers  from -5 to 256 as they are more freqently used numbers so for better performance these numbers\n",
    "# are already cached at the startup so same reference is used by all variables which refers to these objects. something similar\n",
    "# what we learnt in the class related to String interning.\n"
   ]
  },
  {
   "cell_type": "code",
   "execution_count": 35,
   "id": "a016c43b",
   "metadata": {},
   "outputs": [
    {
     "name": "stdout",
     "output_type": "stream",
     "text": [
      "sum of first value and second value:  2\n",
      "difference between first value and second value:  0\n",
      "product first value with second value:  1\n",
      "dividing first value with second value:  1.0\n",
      "dividing first value with second value (floor):  1\n",
      "remainder after dividing first value with second value:  0\n",
      "quotient after dividing first value with second value:  1\n",
      "the result of first value to the power of second value : 1\n"
     ]
    }
   ],
   "source": [
    "# Arithmetic Operations on boolean data\n",
    "# Take two different boolean values.\n",
    "# Store them in two different variables.\n",
    "\n",
    "isVal1 = bool(3)\n",
    "isVal2 = bool(5)\n",
    "# Do below operations on them:-\n",
    "# Find sum of both values\n",
    "\n",
    "print(\"sum of first value and second value: \", isVal1 + isVal2) #2 - it adds 1+1\n",
    "\n",
    "# Find difference between them\n",
    "\n",
    "print(\"difference between first value and second value: \", isVal1 - isVal2) #0 - 1-1 \n",
    "\n",
    "# Find the product of both.\n",
    "\n",
    "print(\"product first value with second value: \", isVal1 * isVal2) #1\n",
    "\n",
    "# Find value after dividing first value with second value\n",
    "\n",
    "print(\"dividing first value with second value: \", isVal1 / isVal2) #1.0\n",
    "print(\"dividing first value with second value (floor): \", isVal1 // isVal2) #1\n",
    "\n",
    "# Find the remainder after dividing first value with second value\n",
    "\n",
    "print(\"remainder after dividing first value with second value: \" , isVal1 % isVal2) #0\n",
    "\n",
    "# Find the quotient after dividing first value with second value\n",
    "quotient = isVal1 // isVal2\n",
    "print(\"quotient after dividing first value with second value: \" , quotient)\n",
    "\n",
    "# Find the result of first value to the power of second value.\n",
    "print(\"the result of first value to the power of second value :\" , isVal1 ** isVal2) #1\n"
   ]
  },
  {
   "cell_type": "code",
   "execution_count": 39,
   "id": "3b4f0f8a",
   "metadata": {},
   "outputs": [
    {
     "name": "stdout",
     "output_type": "stream",
     "text": [
      "checking greater than :  False\n",
      "checking less than :  False\n",
      "checking greater than equal to :  True\n",
      "checking less than equal to :  True\n"
     ]
    }
   ],
   "source": [
    "# Comparison Operators on boolean values\n",
    "# Take two different boolean values.\n",
    "# Store them in two different variables.\n",
    "# Do below operations on them:-\n",
    "\n",
    "\n",
    "isVal1 = bool(3)\n",
    "isVal2 = bool(5)\n",
    "\n",
    "\n",
    "# Compare these two values with below operator:-\n",
    "# Greater than, '>'\n",
    "print(\"checking greater than : \", isVal1 > isVal2) #False\n",
    "\n",
    "# less than, '<'\n",
    "print(\"checking less than : \", isVal1 < isVal2) #False\n",
    "\n",
    "\n",
    "# Greater than or equal to, '>='\n",
    "print(\"checking greater than equal to : \", isVal1 >= isVal2) #True becasue the value is 1 for both\n",
    "\n",
    "\n",
    "# Less than or equal to, '<='\n",
    "\n",
    "print(\"checking less than equal to : \", isVal1 <= isVal2) #True becasue the value is 1 for both\n",
    "\n",
    "# Observe their output(return type should be boolean)\n",
    "#Answer: as we are checking condition, the answer is in boolean\n"
   ]
  },
  {
   "cell_type": "code",
   "execution_count": 40,
   "id": "891ef170",
   "metadata": {},
   "outputs": [
    {
     "name": "stdout",
     "output_type": "stream",
     "text": [
      "checking greater than equal to :  True\n",
      "checking greater than equal to :  False\n"
     ]
    }
   ],
   "source": [
    "# Equality Operator\n",
    "# Take two different boolean values.\n",
    "# Store them in two different variables.\n",
    "isVal1 = bool(3)\n",
    "isVal2 = bool(5)\n",
    "\n",
    "\n",
    "# Equate them using equality operators (==, !=)\n",
    "\n",
    "print(\"checking greater than equal to : \", isVal1 == isVal2) #True becasue the value is 1 for both\n",
    "print(\"checking greater than equal to : \", isVal1 != isVal2) #False becasue the value is 1 for both\n",
    "# Observe the output(return type should be boolean)\n",
    "#Answer: as we are checking condition, the answer is in boolean\n"
   ]
  },
  {
   "cell_type": "code",
   "execution_count": 41,
   "id": "2209b7fb",
   "metadata": {},
   "outputs": [
    {
     "name": "stdout",
     "output_type": "stream",
     "text": [
      "True\n",
      "False\n",
      "False\n",
      "False\n",
      "True\n",
      "True\n",
      "True\n",
      "False\n",
      "False\n",
      "True\n"
     ]
    }
   ],
   "source": [
    "# Q. Logical operators\n",
    "# Observe the output of below code\n",
    "# Cross check the output manually\n",
    "print ( True and True )\n",
    "#----------------------------------------->Output is True\n",
    "print ( False and True )\n",
    "#----------------------------------------->Output is False\n",
    "print ( True and False )\n",
    "#----------------------------------------->Output is False\n",
    "print ( False and False )\n",
    "#----------------------------------------->Output is False\n",
    "print ( True or True )\n",
    "#----------------------------------------->Output is True\n",
    "print ( False or True )\n",
    "#----------------------------------------->Output is True\n",
    "print ( True or False )\n",
    "#----------------------------------------->Output is True\n",
    "print ( False or False )\n",
    "#----------------------------------------->Output is False\n",
    "print ( not True )\n",
    "#----------------------------------------->Output is False\n",
    "print ( not False )\n",
    "#----------------------------------------->Output is True"
   ]
  },
  {
   "cell_type": "code",
   "execution_count": 49,
   "id": "7e9811b0",
   "metadata": {},
   "outputs": [
    {
     "name": "stdout",
     "output_type": "stream",
     "text": [
      "True\n",
      "True\n",
      "True\n",
      "-2\n",
      "4\n",
      "0\n"
     ]
    }
   ],
   "source": [
    "# Q. Bitwise Operators\n",
    "# Do below operations on the values provided below:-\n",
    "# Bitwise and(&) --------------> True, True -------> Output is True\n",
    "print(True & True)\n",
    "# Bitwise or(|) --------------> True, False -------> Output is True\n",
    "print(True | False)\n",
    "# Bitwise(^) --------------> True, False -------> Output is True\n",
    "print(True ^ False)\n",
    "# Bitwise negation(~) ---------> True -------> Output is -2\n",
    "print(~True)\n",
    "# Bitwise left shift ---------> True,2 -------> Output is 4\n",
    "print(True << 2)\n",
    "# Bitwise right shift ---------> True,2 -------> Output is 0\n",
    "print(True >> 2)\n",
    "#Cross check the output manually"
   ]
  },
  {
   "cell_type": "code",
   "execution_count": 51,
   "id": "9553ba60",
   "metadata": {},
   "outputs": [
    {
     "name": "stdout",
     "output_type": "stream",
     "text": [
      "True\n",
      "False\n",
      "True\n",
      "False\n"
     ]
    }
   ],
   "source": [
    "# Q. What is the output of expression inside the print statement. Cross\n",
    "# check before running the program.\n",
    "a = True\n",
    "b = True\n",
    "print (a is b) #True or False? # True\n",
    "print (a is not b) #True or False? # False\n",
    "a = False \n",
    "b = False\n",
    "print (a is b) #True or False? #True\n",
    "print (a is not b) #True or False? #False"
   ]
  },
  {
   "cell_type": "code",
   "execution_count": 53,
   "id": "69ef1dd6",
   "metadata": {},
   "outputs": [
    {
     "name": "stdout",
     "output_type": "stream",
     "text": [
      "True\n",
      "True\n",
      "True\n",
      "True\n",
      "True\n"
     ]
    }
   ],
   "source": [
    "# Q. Membership operation\n",
    "# in, not in are two membership operators and it returns boolean value\n",
    "print ( True in [ 10 , 10.20 , 10 + 20j , 'Python' , True ])  #True\n",
    "print ( False in ( 10 , 10.20 , 10 + 20j , 'Python' , False )) #True\n",
    "print ( True in { 1 , 2 , 3 , True }) #True\n",
    "print ( True in { True : 100 , False : 200 , True : 300 }) #True\n",
    "print ( False in { True : 100 , False : 200 , True : 300 }) #True"
   ]
  },
  {
   "cell_type": "code",
   "execution_count": 60,
   "id": "01dbb1b5",
   "metadata": {},
   "outputs": [
    {
     "data": {
      "text/plain": [
       "'C:\\\\Users\\\\atkumar'"
      ]
     },
     "execution_count": 60,
     "metadata": {},
     "output_type": "execute_result"
    }
   ],
   "source": []
  },
  {
   "cell_type": "code",
   "execution_count": null,
   "id": "17f8d061",
   "metadata": {},
   "outputs": [],
   "source": []
  },
  {
   "cell_type": "code",
   "execution_count": null,
   "id": "41dcea1a",
   "metadata": {},
   "outputs": [],
   "source": []
  },
  {
   "cell_type": "code",
   "execution_count": null,
   "id": "49d252cb",
   "metadata": {},
   "outputs": [],
   "source": []
  },
  {
   "cell_type": "code",
   "execution_count": null,
   "id": "beea41ba",
   "metadata": {},
   "outputs": [],
   "source": []
  },
  {
   "cell_type": "code",
   "execution_count": null,
   "id": "0556ac7e",
   "metadata": {},
   "outputs": [],
   "source": []
  }
 ],
 "metadata": {
  "kernelspec": {
   "display_name": "Python 3",
   "language": "python",
   "name": "python3"
  },
  "language_info": {
   "codemirror_mode": {
    "name": "ipython",
    "version": 3
   },
   "file_extension": ".py",
   "mimetype": "text/x-python",
   "name": "python",
   "nbconvert_exporter": "python",
   "pygments_lexer": "ipython3",
   "version": "3.8.8"
  }
 },
 "nbformat": 4,
 "nbformat_minor": 5
}
