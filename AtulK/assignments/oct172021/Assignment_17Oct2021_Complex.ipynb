{
 "cells": [
  {
   "cell_type": "code",
   "execution_count": 4,
   "id": "34adb7e9",
   "metadata": {},
   "outputs": [
    {
     "name": "stdout",
     "output_type": "stream",
     "text": [
      "(10+5j)\n"
     ]
    }
   ],
   "source": [
    "# Q. Declare a complex number and store it in a variable.\n",
    "# Check the type and print the id of the same.\n",
    "compObj = complex(10,5)\n",
    "print(compObj)"
   ]
  },
  {
   "cell_type": "code",
   "execution_count": 16,
   "id": "bb7ff8a7",
   "metadata": {},
   "outputs": [
    {
     "name": "stdout",
     "output_type": "stream",
     "text": [
      "Find sum of both numbers :  (22+8j)\n",
      "Find diff of both numbers :  (-2+2j)\n",
      "Find prod of both numbers :  (105+90j)\n",
      "Find division of both numbers :  (0.8823529411764706+0.19607843137254902j)\n",
      "Find power of both numbers :  (922073043975.8943+225520901005.45627j)\n"
     ]
    }
   ],
   "source": [
    "# Q. Arithmetic Operations on complex number\n",
    "# Take two different complex numbers.\n",
    "# Store them in two different variables.\n",
    "\n",
    "compObj1 = complex(10,5)\n",
    "compObj2= complex(12,3)\n",
    "# Do below operations on them:-\n",
    "# Find sum of both numbers\n",
    "print(\"Find sum of both numbers : \" , compObj1 + compObj2)\n",
    "# Find difference between them\n",
    "print(\"Find diff of both numbers : \" , compObj1 - compObj2)\n",
    "# Find the product of both numbers.\n",
    "print(\"Find prod of both numbers : \" , compObj1 * compObj2)\n",
    "# Find value after dividing first num with second number\n",
    "print(\"Find division of both numbers : \" , compObj1 / compObj2)\n",
    "\n",
    "# Find the result of the first num to the power of the second number.\n",
    "print(\"Find power of both numbers : \" , compObj1 ** compObj2)"
   ]
  },
  {
   "cell_type": "code",
   "execution_count": 18,
   "id": "28edb079",
   "metadata": {},
   "outputs": [],
   "source": [
    "# Comparison Operation not applicable between instance of complex\n",
    "# values.\n",
    "# compObj1 = complex(10,5)\n",
    "# compObj2= complex(12,3)\n",
    "# print(\"checkc compare : \" , compObj1 > compObj2) #'>' not supported between instances of 'complex' and 'complex'\n",
    "# Object reusability concept is not applicable on complex number"
   ]
  },
  {
   "cell_type": "code",
   "execution_count": 21,
   "id": "a433aa0f",
   "metadata": {},
   "outputs": [
    {
     "name": "stdout",
     "output_type": "stream",
     "text": [
      "Equate them using equality operators :  False\n",
      "Equate them using not equal operators :  True\n"
     ]
    }
   ],
   "source": [
    "# Equality Operator\n",
    "# Take two different complex numbers.\n",
    "# Store them in two different variables.\n",
    "compObj1 = complex(10,5)\n",
    "compObj2= complex(12,3)\n",
    "\n",
    "# Equate them using equality operators (==, !=)\n",
    "print(\"Equate them using equality operators : \" , compObj1 == compObj2) #False\n",
    "print(\"Equate them using not equal operators : \" , compObj1 != compObj2) #True\n",
    "# Observe the output(return type should be boolean)"
   ]
  },
  {
   "cell_type": "code",
   "execution_count": 22,
   "id": "941a8ded",
   "metadata": {},
   "outputs": [
    {
     "name": "stdout",
     "output_type": "stream",
     "text": [
      "(20+30j)\n",
      "0j\n",
      "0j\n",
      "0j\n",
      "(10+20j)\n",
      "(20+30j)\n",
      "(20+30j)\n",
      "0j\n",
      "False\n",
      "True\n"
     ]
    }
   ],
   "source": [
    "# Q. Logical operators\n",
    "# Observe the output of below code\n",
    "# Cross check the output manually\n",
    "print ( 10 + 20j and 20 + 30j ) #20+30j\n",
    "#----------------------------------------->Output is 20+30j\n",
    "print ( 0 + 0j and 20 + 30j ) #0+0j\n",
    "#----------------------------------------->Output is 0j\n",
    "print ( 20 + 30j and 0 + 0j ) #0+0j\n",
    "#----------------------------------------->Output is 0j\n",
    "print ( 0 + 0j and 0 + 0j ) #0+0j\n",
    "#----------------------------------------->Output is 0j\n",
    "print ( 10 + 20j or 20 + 30j ) #10+20j\n",
    "#----------------------------------------->Output is 10+20j\n",
    "print ( 0 + 0j or 20 + 30j ) #20+30j\n",
    "#----------------------------------------->Output is 20+30j\n",
    "print ( 20 + 30j or 0 + 0j ) #20+30j\n",
    "#----------------------------------------->Output is 20+30j\n",
    "print ( 0 + 0j or 0 + 0j ) #0+0j\n",
    "#----------------------------------------->Output is 0j\n",
    "print ( not 10 + 20j ) #False\n",
    "#----------------------------------------->Output is False\n",
    "print ( not 0 + 0j ) #True\n",
    "#----------------------------------------->Output is True"
   ]
  },
  {
   "cell_type": "code",
   "execution_count": 23,
   "id": "95773095",
   "metadata": {},
   "outputs": [
    {
     "name": "stdout",
     "output_type": "stream",
     "text": [
      "False\n",
      "True\n"
     ]
    }
   ],
   "source": [
    "# Q. What is the output of the expression inside the print statement.\n",
    "# Cross check before running the program.\n",
    "a = 10 + 20j\n",
    "b = 10 + 20j\n",
    "print (a is b) #False #True or False? #False\n",
    "print (a is not b) #True #True or False? #True"
   ]
  },
  {
   "cell_type": "code",
   "execution_count": 29,
   "id": "b7c085bd",
   "metadata": {},
   "outputs": [
    {
     "name": "stdout",
     "output_type": "stream",
     "text": [
      "True\n",
      "True\n",
      "True\n",
      "True\n",
      "True\n",
      "True\n"
     ]
    }
   ],
   "source": [
    "# Q. Membership operation\n",
    "# in, not in are two membership operators and it returns boolean value\n",
    "print ( '2.7' in 'Python2.7.8' ) #True\n",
    "print ( 10 + 20j in [ 10 , 10.20 , 10 + 20j , 'Python' ]) #True\n",
    "print ( 10 + 20j in ( 10 , 10.20 , 10 + 20j , 'Python' )) #True\n",
    "print ( 30 + 40j in { 1 , 20.30 , 30 + 40j }) #True\n",
    "print ( 30 + 40j in { 1 : 100 , 2.3 : 200 , 30 + 40j : 300 }) #True\n",
    "print ( 10 in range ( 20 )) #True - range is the number between 0 and 20. ) included and 20 is excluded"
   ]
  },
  {
   "cell_type": "code",
   "execution_count": null,
   "id": "3d2ffb25",
   "metadata": {},
   "outputs": [],
   "source": []
  },
  {
   "cell_type": "code",
   "execution_count": null,
   "id": "8aa0ec38",
   "metadata": {},
   "outputs": [],
   "source": []
  },
  {
   "cell_type": "code",
   "execution_count": null,
   "id": "79e3b79b",
   "metadata": {},
   "outputs": [],
   "source": []
  },
  {
   "cell_type": "code",
   "execution_count": null,
   "id": "1fcd7b27",
   "metadata": {},
   "outputs": [],
   "source": []
  },
  {
   "cell_type": "code",
   "execution_count": null,
   "id": "1427e76a",
   "metadata": {},
   "outputs": [],
   "source": []
  }
 ],
 "metadata": {
  "kernelspec": {
   "display_name": "Python 3",
   "language": "python",
   "name": "python3"
  },
  "language_info": {
   "codemirror_mode": {
    "name": "ipython",
    "version": 3
   },
   "file_extension": ".py",
   "mimetype": "text/x-python",
   "name": "python",
   "nbconvert_exporter": "python",
   "pygments_lexer": "ipython3",
   "version": "3.8.8"
  }
 },
 "nbformat": 4,
 "nbformat_minor": 5
}
