{
 "cells": [
  {
   "cell_type": "code",
   "execution_count": 1,
   "id": "0270882d",
   "metadata": {},
   "outputs": [
    {
     "name": "stdout",
     "output_type": "stream",
     "text": [
      "12\n",
      "140718308665488\n",
      "<class 'int'>\n"
     ]
    }
   ],
   "source": [
    "# Q. Declare an int value and store it in a variable.\n",
    "# Check the type and print the id of the same.\n",
    "\n",
    "value1 = 12\n",
    "print(value1) #12\n",
    "print(id(value1)) #140718308665488\n",
    "print(type(value1)) #<class 'int'>\n"
   ]
  },
  {
   "cell_type": "code",
   "execution_count": 3,
   "id": "9ad73528",
   "metadata": {},
   "outputs": [
    {
     "name": "stdout",
     "output_type": "stream",
     "text": [
      "140718308665488\n",
      "140718308665488\n"
     ]
    }
   ],
   "source": [
    "# Take one int value between 0 - 256.\n",
    "# Assign it to two different variables.\n",
    "# Check the id of both the variables. It should come the same. Check why?\n",
    "\n",
    "\n",
    "firstDataPresentInSameLocation = 12\n",
    "secondDataPresentInSameLocation = 12\n",
    "print(id(firstDataPresentInSameLocation)) #140718308665488\n",
    "print(id(secondDataPresentInSameLocation)) #140718308665488\n",
    "\n",
    "# Answer: Based on the understanding, if the value is same then only one object is creted and is refered by other variables.\n",
    "# This hold true for numbers  from -5 to 256 as they are more freqently used numbers so for better performance these numbers\n",
    "# are already cached at the startup so same reference is used by all variables which refers to these objects. something similar\n",
    "# what we learnt in the class related to String interning."
   ]
  },
  {
   "cell_type": "code",
   "execution_count": 4,
   "id": "884ae564",
   "metadata": {},
   "outputs": [],
   "source": [
    "# Q. Take one int value either less than -5 or greater than 256.\n",
    "# Assign it to two different variables.\n",
    "# Check the id of both the variables. It should come different.Check why?\n",
    "\n",
    "# Answer: Based on the understanding, if the value is same then only one object is creted and is refered by other variables.\n",
    "# This hold true for numbers  from -5 to 256 as they are more freqently used numbers so for better performance these numbers\n",
    "# are already cached at the startup so same reference is used by all variables which refers to these objects. something similar\n",
    "# what we learnt in the class related to String interning."
   ]
  },
  {
   "cell_type": "code",
   "execution_count": 5,
   "id": "cd8f34b3",
   "metadata": {},
   "outputs": [
    {
     "name": "stdout",
     "output_type": "stream",
     "text": [
      "sum of first value and second value:  51\n",
      "difference between first value and second value:  1\n",
      "product first value with second value:  650\n",
      "dividing first value with second value:  1.04\n",
      "dividing first value with second value (floor):  1\n",
      "remainder after dividing first value with second value:  1\n",
      "quotient after dividing first value with second value:  1\n",
      "the result of first value to the power of second value : 236773830007967588876795164938469376\n"
     ]
    }
   ],
   "source": [
    "# Q. Arithmetic Operations on integers\n",
    "# Take two different integer values.\n",
    "# Store them in two different variables.\n",
    "intValue = 26\n",
    "intValue2 = 25\n",
    "\n",
    "# Do below operations on them:-\n",
    "# Find sum of both numbers\n",
    "print(\"sum of first value and second value: \", intValue + intValue2) #51\n",
    "\n",
    "# Find difference between them\n",
    "\n",
    "print(\"difference between first value and second value: \", intValue - intValue2) #1\n",
    "\n",
    "# Find the product of both numbers.\n",
    "\n",
    "print(\"product first value with second value: \", intValue * intValue2) #650\n",
    "\n",
    "# Find value after dividing first num with second number\n",
    "\n",
    "print(\"dividing first value with second value: \", intValue / intValue2) # 1.04\n",
    "print(\"dividing first value with second value (floor): \", intValue // intValue2) #1\n",
    "\n",
    "# Find the remainder after dividing first value with second value\n",
    "\n",
    "print(\"remainder after dividing first value with second value: \" , intValue % intValue2) #1\n",
    "\n",
    "# Find the quotient after dividing first value with second value\n",
    "quotient = intValue // intValue2\n",
    "print(\"quotient after dividing first value with second value: \" , quotient) #1\n",
    "\n",
    "# Find the result of first value to the power of second value.\n",
    "print(\"the result of first value to the power of second value :\" , intValue ** intValue2) #236773830007967588876795164938469376"
   ]
  },
  {
   "cell_type": "code",
   "execution_count": 6,
   "id": "9e555646",
   "metadata": {},
   "outputs": [
    {
     "name": "stdout",
     "output_type": "stream",
     "text": [
      "checking greater than :  True\n",
      "checking less than :  False\n",
      "checking greater than equal to :  True\n",
      "checking less than equal to :  False\n"
     ]
    }
   ],
   "source": [
    "# Q. Comparison Operators on integers\n",
    "# Take two different integer values.\n",
    "# Store them in two different variables.\n",
    "\n",
    "isVal1 =31\n",
    "isVal2 = 12\n",
    "\n",
    "# Comparison Operators on boolean values\n",
    "# Take two different boolean values.\n",
    "# Store them in two different variables.\n",
    "# Do below operations on them:-\n",
    "\n",
    "\n",
    "# Compare these two values with below operator:-\n",
    "# Greater than, '>'\n",
    "print(\"checking greater than : \", isVal1 > isVal2) #True\n",
    "\n",
    "# less than, '<'\n",
    "print(\"checking less than : \", isVal1 < isVal2) #False\n",
    "\n",
    "\n",
    "# Greater than or equal to, '>='\n",
    "print(\"checking greater than equal to : \", isVal1 >= isVal2) #True\n",
    "\n",
    "\n",
    "# Less than or equal to, '<='\n",
    "\n",
    "print(\"checking less than equal to : \", isVal1 <= isVal2) #False\n",
    "\n",
    "# Observe their output(return type should be boolean)\n",
    "#Answer: as we are checking condition, the answer is in boolean"
   ]
  },
  {
   "cell_type": "code",
   "execution_count": 7,
   "id": "7f585039",
   "metadata": {},
   "outputs": [
    {
     "name": "stdout",
     "output_type": "stream",
     "text": [
      "checking greater than equal to :  False\n",
      "checking greater than equal to :  True\n"
     ]
    }
   ],
   "source": [
    "# Q. Equality Operator\n",
    "# Take two different integer values.\n",
    "# Store them in two different variables.\n",
    "isVal1 =3\n",
    "isVal2 = 5\n",
    "\n",
    "# Equate them using equality operators (==, !=)\n",
    "\n",
    "print(\"checking greater than equal to : \", isVal1 == isVal2) #False \n",
    "print(\"checking greater than equal to : \", isVal1 != isVal2) #True\n",
    "# Observe the output(return type should be boolean)\n",
    "#Answer: as we are checking condition, the answer is in boolean\n"
   ]
  },
  {
   "cell_type": "code",
   "execution_count": 8,
   "id": "c2be4426",
   "metadata": {},
   "outputs": [
    {
     "name": "stdout",
     "output_type": "stream",
     "text": [
      "0\n",
      "0\n",
      "0\n",
      "10\n",
      "20\n",
      "20\n",
      "0\n",
      "False\n",
      "True\n"
     ]
    }
   ],
   "source": [
    "# Q. Logical operators\n",
    "# Observe the output of below code\n",
    "# Cross check the output manually\n",
    "# print ( 10 and 20 )\n",
    "#----------------------------------------->Output is 20\n",
    "print ( 0 and 20 )\n",
    "#----------------------------------------->Output is 0\n",
    "print ( 20 and 0 )\n",
    "#----------------------------------------->Output is 0\n",
    "print ( 0 and 0 )\n",
    "#----------------------------------------->Output is 0\n",
    "print ( 10 or 20 )\n",
    "#----------------------------------------->Output is 10\n",
    "print ( 0 or 20 )\n",
    "#----------------------------------------->Output is 20\n",
    "print ( 20 or 0 )\n",
    "#----------------------------------------->Output is 20\n",
    "print ( 0 or 0 )\n",
    "#----------------------------------------->Output is 0\n",
    "print ( not 10 )\n",
    "#----------------------------------------->Output is False\n",
    "print ( not 0 )\n",
    "#----------------------------------------->Output is True"
   ]
  },
  {
   "cell_type": "code",
   "execution_count": 15,
   "id": "f7f72dfd",
   "metadata": {},
   "outputs": [
    {
     "name": "stdout",
     "output_type": "stream",
     "text": [
      "0\n",
      "30\n",
      "30\n",
      "-11\n",
      "40\n",
      "2\n"
     ]
    }
   ],
   "source": [
    "# Q. Bitwise Operators\n",
    "# Do below operations on the values provided below:-\n",
    "# Bitwise and(&) -----------------------------------------> 10, 20 -------> Output is 0\n",
    "print(10&20)\n",
    "# Bitwise or(|) -----------------------------------------> 10, 20 -------> Output is 30\n",
    "print(10|20)\n",
    "# Bitwise(^) -----------------------------------------> 10, 20 -------> Output is 30\n",
    "print(10^20)\n",
    "# Bitwise negation(~) ------------------------------------> 10 -------> Output is -11\n",
    "print(~10)\n",
    "# Bitwise left shift ------------------------------------> 10,2 -------> Output is 40\n",
    "print(10 << 2)\n",
    "# Bitwise right shift ------------------------------------> 10,2 -------> Output is 2\n",
    "print(10 >> 2)\n",
    "# Cross check the output manually"
   ]
  },
  {
   "cell_type": "code",
   "execution_count": 16,
   "id": "8d4bf739",
   "metadata": {},
   "outputs": [
    {
     "name": "stdout",
     "output_type": "stream",
     "text": [
      "True\n",
      "False\n",
      "False\n",
      "True\n"
     ]
    }
   ],
   "source": [
    "# Q. What is the output of expression inside print statement. Cross check\n",
    "# before running the program.\n",
    "a = 10\n",
    "b = 10\n",
    "print(a is b) #True or False? #True\n",
    "print(a is not b) #True or False? # False\n",
    "a = 1000\n",
    "b = 1000\n",
    "print(a is b) #True or False? # False\n",
    "print(a is not b) #True or False? # True\n"
   ]
  },
  {
   "cell_type": "code",
   "execution_count": 18,
   "id": "0aefa566",
   "metadata": {},
   "outputs": [
    {
     "name": "stdout",
     "output_type": "stream",
     "text": [
      "20\n"
     ]
    }
   ],
   "source": [
    "# Q. What is the output of expression inside print statement. Cross check\n",
    "# before running the program.\n",
    "print ( 10 +( 10 * 32 )// 2 ** 5 & 20 +(~( -10 ))<< 2 ) #20"
   ]
  },
  {
   "cell_type": "code",
   "execution_count": 20,
   "id": "b520c799",
   "metadata": {},
   "outputs": [
    {
     "name": "stdout",
     "output_type": "stream",
     "text": [
      "True\n",
      "True\n",
      "True\n",
      "True\n",
      "True\n",
      "True\n"
     ]
    }
   ],
   "source": [
    "# Q. Membership operation\n",
    "# in, not in are two membership operators and it returns boolean value\n",
    "print ( '2' in 'Python2.7.8' )  #True\n",
    "print ( 10 in [ 10 , 10.20 , 10 + 20j , 'Python' ]) #True\n",
    "print ( 10 in ( 10 , 10.20 , 10 + 20j , 'Python' )) #True\n",
    "print ( 2 in { 1 , 2 , 3 }) #True\n",
    "print ( 3 in { 1 : 100 , 2 : 200 , 3 : 300 }) #True\n",
    "print ( 10 in range ( 20 )) #True- range is the number between 0 and 20. ) included and 20 is excluded\n"
   ]
  },
  {
   "cell_type": "code",
   "execution_count": 25,
   "id": "4db1c385",
   "metadata": {},
   "outputs": [
    {
     "name": "stdout",
     "output_type": "stream",
     "text": [
      "binary of 3 :  0b11\n",
      "octal of 3 :  0o3\n",
      "hexadecimal of 3 :  0x3\n",
      "binary of 9876 :  0b10011010010100\n",
      "octal of 9876 :  0o23224\n",
      "hexadecimal of 9876 :  0x2694\n"
     ]
    }
   ],
   "source": [
    "# Q. An integer can be represented in binary, octal or hexadecimal form.\n",
    "# Declare one binary, one octal and one hexadecimal value and store them\n",
    "# in three different variables.\n",
    "binValue = bin(3)\n",
    "octValue = oct(3)\n",
    "hexValue = hex(3)\n",
    "print(\"binary of 3 : \", binValue)\n",
    "print(\"octal of 3 : \", octValue)\n",
    "print(\"hexadecimal of 3 : \", hexValue)\n",
    "# Convert 9876 to its binary, octal and hexadecimal equivalent and print\n",
    "# their corresponding value.\n",
    "\n",
    "binValue = bin(9876)\n",
    "octValue = oct(9876)\n",
    "hexValue = hex(9876)\n",
    "print(\"binary of 9876 : \", binValue)\n",
    "print(\"octal of 9876 : \", octValue)\n",
    "print(\"hexadecimal of 9876 : \", hexValue)\n"
   ]
  },
  {
   "cell_type": "code",
   "execution_count": 28,
   "id": "9bfddc26",
   "metadata": {
    "scrolled": true
   },
   "outputs": [
    {
     "name": "stdout",
     "output_type": "stream",
     "text": [
      "80\n",
      "3870\n",
      "64222\n",
      "0b1010000\n",
      "0o7436\n",
      "0xfade\n",
      "0b1010000\n",
      "0b1111101011011110\n",
      "0o175336\n",
      "0o7436\n",
      "0x50\n",
      "0xfade\n"
     ]
    }
   ],
   "source": [
    "# Q. What will be the output of following:-\n",
    "a = 0b1010000\n",
    "print (a) #80\n",
    "b = 0o7436\n",
    "print (b) #3870\n",
    "c = 0xfade\n",
    "print (c) #64222\n",
    "print ( bin ( 80 )) #0b1010000\n",
    "print ( oct ( 3870 ))  #0o7436\n",
    "print ( hex ( 64222 )) #0xfade\n",
    "print ( bin ( 0b1010000)) #0b1010000\n",
    "print ( bin ( 0xfade )) #0b1111101011011110\n",
    "print ( oct ( 0xfade )) #0o175336\n",
    "print ( oct ( 0o7436)) #0o7436\n",
    "print ( hex ( 0b1010000)) #0x50\n",
    "print ( hex ( 0xfade )) #0xfade"
   ]
  },
  {
   "cell_type": "code",
   "execution_count": 5,
   "id": "0f63475b",
   "metadata": {},
   "outputs": [],
   "source": [
    "import os\n",
    "os.chdir(\"D:\\\\Course\\\\LearnbayDS\\\\Learnbay_Project\\\\AtulK\\\\\")\n"
   ]
  }
 ],
 "metadata": {
  "kernelspec": {
   "display_name": "Python 3",
   "language": "python",
   "name": "python3"
  },
  "language_info": {
   "codemirror_mode": {
    "name": "ipython",
    "version": 3
   },
   "file_extension": ".py",
   "mimetype": "text/x-python",
   "name": "python",
   "nbconvert_exporter": "python",
   "pygments_lexer": "ipython3",
   "version": "3.8.8"
  }
 },
 "nbformat": 4,
 "nbformat_minor": 5
}
