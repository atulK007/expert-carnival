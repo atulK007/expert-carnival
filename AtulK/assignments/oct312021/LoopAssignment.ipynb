{
 "cells": [
  {
   "cell_type": "code",
   "execution_count": 7,
   "id": "38ccbf00",
   "metadata": {},
   "outputs": [
    {
     "name": "stdout",
     "output_type": "stream",
     "text": [
      "please provide number from 0 to 9: 11\n",
      "please provide number from 0 to 9:\n"
     ]
    }
   ],
   "source": [
    "# Q. W. A P. which takes one number from 0 to 9 from the user and prints\n",
    "# it in the word. And if the word is not from 0 to 9 then\n",
    "# it should print that number is outside of the range and program should\n",
    "# exit.\n",
    "# For exapmple:-\n",
    "# input = 1\n",
    "# output = one\n",
    "\n",
    "number = int(input(\"please provide number from 0 to 9: \"))\n",
    "if number < 0 or number > 9:\n",
    "     print(\"please provide number from 0 to 9:\")\n",
    "elif number == 0:\n",
    "    print(\"Zero\") \n",
    "elif number == 1:\n",
    "    print(\"One\") \n",
    "elif number == 2:\n",
    "    print(\"Two\") \n",
    "elif number == 3:\n",
    "    print(\"Three\") \n",
    "elif number == 4:\n",
    "    print(\"Four\") \n",
    "elif number == 5:\n",
    "    print(\"Five\") \n",
    "elif number == 6:\n",
    "    print(\"Six\")\n",
    "elif number == 7:\n",
    "    print(\"Seven\") \n",
    "elif number == 8:\n",
    "    print(\"Eight\") \n",
    "elif number == 9:\n",
    "    print(\"Nine\") \n",
    "\n"
   ]
  },
  {
   "cell_type": "code",
   "execution_count": 11,
   "id": "d89da89c",
   "metadata": {},
   "outputs": [
    {
     "name": "stdout",
     "output_type": "stream",
     "text": [
      "please provide first number 5\n",
      "please provide second number 4\n",
      "Please select any one operation from below:-\n",
      "To add enter 1\n",
      "To subtract enter 2\n",
      "To multiply enter 3\n",
      "To divide enter 4\n",
      "To divide and find quotient enter 5\n",
      "To divide and find remainder enter 6\n",
      "To divide and find num1 to the power of num2 enter 7\n",
      "To Come out of the program enter 8\n",
      "Provide your operration5\n",
      "Quotient of 5 and 4 is :  1\n"
     ]
    }
   ],
   "source": [
    "# Q. W. A P. to implement calculator but the operation to be done and two\n",
    "# numbers will be taken as input from user:-\n",
    "# Operation console should show below:-\n",
    "# Please select any one operation from below:-\n",
    "# * To add enter 1\n",
    "# * to subtract enter 2\n",
    "# * To multiply enter 3\n",
    "# * To divide enter 4\n",
    "# * To divide and find quotient enter 5\n",
    "# * To divide and find remainder enter 6\n",
    "# * To divide and find num1 to the power of num2 enter 7\n",
    "# * To Come out of the program enter 8\n",
    "\n",
    "number1 = int(input(\"please provide first number \"))\n",
    "number2 = int(input(\"please provide second number \"))\n",
    "print(\"Please select any one operation from below:-\")\n",
    "print(\"To add enter 1\")\n",
    "print(\"To subtract enter 2\")\n",
    "print(\"To multiply enter 3\")\n",
    "print(\"To divide enter 4\")\n",
    "print(\"To divide and find quotient enter 5\")\n",
    "print(\"To divide and find remainder enter 6\")\n",
    "print(\"To divide and find num1 to the power of num2 enter 7\")\n",
    "print(\"To Come out of the program enter 8\")\n",
    "operation = int(input(\"Provide your operration : \"))\n",
    "\n",
    "if operation == 1:\n",
    "    print(\"Sum of {} and {} is : \".format(number1, number2), number1+number2)\n",
    "if operation == 2:\n",
    "    print(\"Diff of {} and {} is : \".format(number1, number2), number1-number2)\n",
    "if operation == 3:\n",
    "    print(\"product of {} and {} is : \".format(number1, number2), number1*number2)\n",
    "if operation == 4:\n",
    "    print(\"Divide of {} and {} is : \".format(number1, number2), number1/number2)\n",
    "if operation == 5:\n",
    "    print(\"Quotient of {} and {} is : \".format(number1, number2), number1//number2)\n",
    "if operation == 6:\n",
    "    print(\"Remainder of {} and {} is : \".format(number1, number2), number1%number2)\n",
    "if operation == 7:\n",
    "    print(\"Power of {} and {} is : \".format(number1, number2), number1**number2)\n",
    "if operation == 8:\n",
    "    print(\"Thank you !!\")"
   ]
  },
  {
   "cell_type": "code",
   "execution_count": 16,
   "id": "24a7711a",
   "metadata": {},
   "outputs": [
    {
     "name": "stdout",
     "output_type": "stream",
     "text": [
      "please provide the year 1600\n",
      "Leap Year\n"
     ]
    }
   ],
   "source": [
    "# Q. W A P to check whether a year entered by user is an leap year or not ?\n",
    "# Check with below input:-\n",
    "# leap year:- 2012 , 1968 , 2004 , 1200 , 1600 , 2400\n",
    "# Non-lear year:- 1971 , 2006 , 1700 , 1800 , 1900\n",
    "\n",
    "year = int(input(\"please provide the year \"))\n",
    "\n",
    "\n",
    "if(int(year)%4 == 0):\n",
    "    if(int(year)%100 !=0 or (int(year)%400 ==0 )):\n",
    "        print(\"Leap Year\")\n",
    "    else:\n",
    "        print(\"Not a Leap Year\")  \n",
    "else:\n",
    "     print(\"Not a leap year\")"
   ]
  },
  {
   "cell_type": "code",
   "execution_count": 18,
   "id": "7e230edd",
   "metadata": {},
   "outputs": [
    {
     "name": "stdout",
     "output_type": "stream",
     "text": [
      "please provide a number 44\n",
      "You entered an Even number\n"
     ]
    }
   ],
   "source": [
    "# Q. W A P which takes one number from the user and checks whether it is\n",
    "# an even or odd number?, If it even then prints number is\n",
    "# even number else prints that number is odd number.\n",
    "number = int(input(\"please provide a number \"))\n",
    "\n",
    "if(number%2 == 0):\n",
    "    print(\"You entered an Even number\")\n",
    "else:\n",
    "    print(\"You entered Odd number\")\n",
    "\n",
    "\n"
   ]
  },
  {
   "cell_type": "code",
   "execution_count": 22,
   "id": "b76909b0",
   "metadata": {},
   "outputs": [
    {
     "name": "stdout",
     "output_type": "stream",
     "text": [
      "please provide first number 3\n",
      "please provide second number 4\n",
      "3 is less than 4 \n"
     ]
    }
   ],
   "source": [
    "# Q. W A P which takes two numbers from the user and prints below output:-\n",
    "# 1 . num1 is greater than num2 if num1 is greater than num2\n",
    "# 2 . num1 is smaller than num2 if num1 is smaller than num2\n",
    "# 3 . num1 is equal to num2 if num1 and num2 are equal\n",
    "\n",
    "number1 = int(input(\"please provide first number \"))\n",
    "number2 = int(input(\"please provide second number \"))\n",
    "\n",
    "if(number1 > number2):\n",
    "     print(\"{} is greater than {} \".format(number1, number2))\n",
    "elif(number1 < number2):\n",
    "     print(\"{} is less than {} \".format(number1, number2))\n",
    "else:\n",
    "     print(\"{} is equal to {} \".format(number1, number2))"
   ]
  },
  {
   "cell_type": "code",
   "execution_count": 27,
   "id": "870a9281",
   "metadata": {},
   "outputs": [
    {
     "name": "stdout",
     "output_type": "stream",
     "text": [
      "please provide first number 4\n",
      "please provide second number 5\n",
      "please provide third number 3\n",
      "5 is greater than 4 and 3 \n"
     ]
    }
   ],
   "source": [
    "# Q. W A P which takes three numbers from the user and prints below\n",
    "# output:-\n",
    "# 1 . num1 is greater than num2 and num3 if num1 is greater than num2\n",
    "# and num3\n",
    "# 2 . num2 is greater than num1 and num3 if num2 is greater than num1\n",
    "# and num3\n",
    "# 3 . num3 is greater than num1 and num2 if num3 is greater than num1\n",
    "# and num2\n",
    "# Note:- 1 . Do this problem using if - elif - else\n",
    "# 2 . Do this using ternary operator\n",
    "# a = a if a>b else b\n",
    "\n",
    "number1 = int(input(\"please provide first number \"))\n",
    "number2 = int(input(\"please provide second number \"))\n",
    "number3 = int(input(\"please provide third number \"))\n",
    "\n",
    "if(number1 > number2 and number1 > number3):\n",
    "     print(\"{} is greater than {} and {} \".format(number1, number2, number3))\n",
    "elif(number2 > number1 and number2 > number3):\n",
    "    print(\"{} is greater than {} and {} \".format(number2, number1, number3))\n",
    "elif(number3 > number1 and number3 > number2):\n",
    "    print(\"{} is greater than {} and {} \".format(number3, number1, number2))\n"
   ]
  },
  {
   "cell_type": "code",
   "execution_count": 33,
   "id": "3b80b9bf",
   "metadata": {},
   "outputs": [
    {
     "name": "stdout",
     "output_type": "stream",
     "text": [
      "Enter the string :Write a Python program to find the length of the my_str\n",
      "Length of the Entered string is :  55\n"
     ]
    }
   ],
   "source": [
    "# Loops - for loop, while loop\n",
    "# Q. Write a Python program to find the length of the my_str using loop:-\n",
    "# Input:- 'Write a Python program to find the length of the my_str'\n",
    "# Output:- 55\n",
    "\n",
    "myStr = input(\"Enter the string :\")\n",
    "count = 0\n",
    "for chr in myStr:\n",
    "    count +=1\n",
    "\n",
    "print(\"Length of the Entered string is : \", int(count))   \n"
   ]
  },
  {
   "cell_type": "code",
   "execution_count": 39,
   "id": "24c12da2",
   "metadata": {},
   "outputs": [
    {
     "name": "stdout",
     "output_type": "stream",
     "text": [
      "Enter the string :pest control pops us epson\n",
      "p is mentioned 4 times in the string\n"
     ]
    }
   ],
   "source": [
    "# Q. Write a Python program to find the total number of times letter 'p'\n",
    "# is appeared in the below string using loop:-\n",
    "# Input:- 'peter piper picked a peck of pickled peppers.\\n'\n",
    "# Output:- 9\n",
    "\n",
    "myStr = input(\"Enter the string :\")\n",
    "count = 0\n",
    "for chr in myStr:\n",
    "    if chr == 'p':\n",
    "        count +=1\n",
    "print(\"p is mentioned {} times in the string\".format(count))  "
   ]
  },
  {
   "cell_type": "code",
   "execution_count": 41,
   "id": "23f12d51",
   "metadata": {},
   "outputs": [
    {
     "name": "stdout",
     "output_type": "stream",
     "text": [
      "Enter the string :peter piper picked a peck of pickled peppers.\n",
      "0\n",
      "6\n",
      "8\n",
      "12\n",
      "21\n",
      "29\n",
      "37\n",
      "39\n",
      "40\n"
     ]
    }
   ],
   "source": [
    "# Q. Write a Python Program, to print all the indexes of all occurences of\n",
    "# letter 'p' appeared in the string using loop:-\n",
    "# Input:- 'peter piper picked a peck of pickled peppers.'\n",
    "# Output:-\n",
    "# 0\n",
    "# 6\n",
    "# 8\n",
    "# 12\n",
    "# 21\n",
    "# 29\n",
    "# 37\n",
    "# 39\n",
    "# 40\n",
    "\n",
    "myStr = input(\"Enter the string :\")\n",
    "count = 0\n",
    "while  count < len(myStr):\n",
    "    if myStr[count] == 'p':\n",
    "        print(count)\n",
    "    count+=1"
   ]
  },
  {
   "cell_type": "code",
   "execution_count": 57,
   "id": "a03e7642",
   "metadata": {},
   "outputs": [
    {
     "name": "stdout",
     "output_type": "stream",
     "text": [
      "['peter', ' piper', ' pciked', ' a', ' peck', ' of', ' pickled', ' peppers']\n"
     ]
    }
   ],
   "source": [
    "# Q. Write a python program to find below output using loop:-\n",
    "# Input:- 'peter piper picked a peck of pickled peppers.'\n",
    "# Output:- [ 'peter' , 'piper' , 'picked' , 'a' , 'peck' , 'of' , 'pickled' ,\n",
    "# 'peppers' ]\n",
    "\n",
    "my_str = 'peter piper pciked a peck of pickled peppers'\n",
    "list = []\n",
    "str = ''\n",
    "i = 0\n",
    "for chr in my_str:\n",
    "   \n",
    "    if(chr == \" \"):\n",
    "        list.append(str)\n",
    "        str = ''\n",
    "    if i == (len(my_str)-1):\n",
    "        str += chr\n",
    "        list.append(str)\n",
    "    else:\n",
    "        str += chr\n",
    "    i +=1\n",
    "\n",
    "\n",
    "print(list)"
   ]
  },
  {
   "cell_type": "code",
   "execution_count": 28,
   "id": "53f159e0",
   "metadata": {},
   "outputs": [
    {
     "name": "stdout",
     "output_type": "stream",
     "text": [
      "peppers. pickled of peck a picked piper peter\n"
     ]
    }
   ],
   "source": [
    "# Q. Write a python program to find below output using loop:-\n",
    "# Input:- 'peter piper picked a peck of pickled peppers.'\n",
    "# Output:- 'peppers pickled of peck a picked piper peter'\n",
    "\n",
    "\n",
    "my_str = 'peter piper picked a peck of pickled peppers.'\n",
    "str2 = (my_str[::-1])\n",
    "lst = []\n",
    "chr = ''\n",
    "for ele in str2:\n",
    "    if ele != \" \":\n",
    "        chr +=ele    \n",
    "    else:\n",
    "        lst.append(chr[::-1])\n",
    "        chr=''\n",
    "lst.append(chr[::-1])\n",
    "print(\" \".join(lst))       "
   ]
  },
  {
   "cell_type": "code",
   "execution_count": 19,
   "id": "6ee4b5ab",
   "metadata": {},
   "outputs": [
    {
     "name": "stdout",
     "output_type": "stream",
     "text": [
      ".sreppep delkcip fo kcep a dekicp repip retep\n",
      ".sreppep delkcip fo kcep a dekcip repip retep\n"
     ]
    }
   ],
   "source": [
    "# Q. Write a python program to find below output using loop:-\n",
    "# Input:- 'peter piper picked a peck of pickled peppers.'\n",
    "# Output:- '.sreppep delkcip fo kcep a dekcip repip retep'\n",
    "\n",
    "my_str = 'peter piper pciked a peck of pickled peppers.'\n",
    "finalString = ''\n",
    "str = ''\n",
    "i = len(my_str)-1\n",
    "while i >= 0:\n",
    " \n",
    "    if my_str[i] == \" \":\n",
    "        finalString+= str\n",
    "        str = ''\n",
    "    if i == 0:\n",
    "        str += my_str[i]\n",
    "        finalString+= str\n",
    "    else:\n",
    "        str += my_str[i]\n",
    "    i -=1\n",
    "\n",
    "\n",
    "print(finalString)\n",
    "\n",
    "my_str = 'peter piper picked a peck of pickled peppers.'\n",
    "print(my_str[::-1])"
   ]
  },
  {
   "cell_type": "code",
   "execution_count": 30,
   "id": "7414949f",
   "metadata": {},
   "outputs": [
    {
     "name": "stdout",
     "output_type": "stream",
     "text": [
      "retep repip dekcip a kcep fo delkcip .sreppep\n"
     ]
    }
   ],
   "source": [
    "# Q. Write a python program to find below output using loop:-\n",
    "# Input:- 'peter piper picked a peck of pickled peppers.'\n",
    "# Output:- 'retep repip dekcip a kcep fo delkcip sreppep'\n",
    "\n",
    "my_str = 'peter piper picked a peck of pickled peppers.'\n",
    "\n",
    "lst = []\n",
    "chr = ''\n",
    "for ele in my_str:\n",
    "    if ele != \" \":\n",
    "        chr +=ele    \n",
    "    else:\n",
    "        lst.append(chr[::-1])\n",
    "        chr=''\n",
    "lst.append(chr[::-1])\n",
    "print(\" \".join(lst))       \n"
   ]
  },
  {
   "cell_type": "code",
   "execution_count": 9,
   "id": "43031cbf",
   "metadata": {},
   "outputs": [
    {
     "name": "stdout",
     "output_type": "stream",
     "text": [
      "Peter Piper Pciked A Peck Of Pickled Peppers.\n"
     ]
    }
   ],
   "source": [
    "# Q. Write a python program to find below output using loop:-\n",
    "# Input:- 'peter piper picked a peck of pickled peppers.'\n",
    "# Output:- 'Peter Piper Picked A Peck Of Pickled Peppers'\n",
    "my_str = 'peter piper pciked a peck of pickled peppers.'\n",
    "print(my_str.title())"
   ]
  },
  {
   "cell_type": "code",
   "execution_count": 13,
   "id": "d74dd167",
   "metadata": {},
   "outputs": [
    {
     "name": "stdout",
     "output_type": "stream",
     "text": [
      "Peter piper pciked a peck of pickled peppers.\n"
     ]
    }
   ],
   "source": [
    "# Q. Write a python program to find below output using loop:-\n",
    "# Input:- 'Peter Piper Picked A Peck Of Pickled Peppers.'\n",
    "# Output:- 'Peter piper picked a peck of pickled peppers'\n",
    "\n",
    "my_str = 'peter piper pciked a peck of pickled peppers.'\n",
    "print(my_str.capitalize())"
   ]
  },
  {
   "cell_type": "code",
   "execution_count": 14,
   "id": "ab751567",
   "metadata": {},
   "outputs": [
    {
     "name": "stdout",
     "output_type": "stream",
     "text": [
      "29\n"
     ]
    }
   ],
   "source": [
    "# Q. Write a python program to implement index method using loop. If\n",
    "# sub_str is found in my_str then it will print the index\n",
    "# of first occurrence of first character of matching string in my_str:-\n",
    "# Input:- my_str = 'Peter Piper Picked A Peck Of Pickled Peppers.' ,\n",
    "# sub_str = 'Pickl'\n",
    "# Output:- 29\n",
    "my_str = 'Peter Piper Picked A Peck Of Pickled Peppers.'\n",
    "sub_str = 'Pickl'\n",
    "print(my_str.index(sub_str))\n"
   ]
  },
  {
   "cell_type": "code",
   "execution_count": 15,
   "id": "bdb9d343",
   "metadata": {},
   "outputs": [
    {
     "name": "stdout",
     "output_type": "stream",
     "text": [
      "Peter Piper Picked A Pack Of Pickled Peppers.\n"
     ]
    }
   ],
   "source": [
    "# Q. Write a python program to implement replace method using loop. If\n",
    "# sub_str is found in my_str then it will replace the first\n",
    "# occurrence of sub_str with new_str else it will will print sub_str not\n",
    "# found:-\n",
    "# Input:- my_str = 'Peter Piper Picked A Peck Of Pickled Peppers.' ,\n",
    "# sub_str = 'Peck' , new_str = 'Pack'\n",
    "# Output:- 'Peter Piper Picked A Pack Of Pickled Peppers.'\n",
    "my_str = 'Peter Piper Picked A Peck Of Pickled Peppers.'\n",
    "sub_str = 'Peck'\n",
    "new_str = 'Pack'\n",
    "print(my_str.replace(sub_str, new_str))"
   ]
  },
  {
   "cell_type": "code",
   "execution_count": 4,
   "id": "9eca203a",
   "metadata": {},
   "outputs": [
    {
     "name": "stdout",
     "output_type": "stream",
     "text": [
      "*********************Peck***********************\n"
     ]
    }
   ],
   "source": [
    "# Q. Write a python program to find below output (implements rjust and\n",
    "# ljust) using loop:-\n",
    "# Input:- 'Peter Piper Picked A Peck Of Pickled Peppers.' , sub_str =\n",
    "# 'Peck' ,\n",
    "# Output:- '*********************Peck********************'\n",
    "\n",
    "my_str = 'Peter Piper Picked A Peck Of Pickled Peppers.'\n",
    "sub_str = 'Peck'\n",
    "updateString = ''\n",
    "indx = 0\n",
    "while indx < my_str.index(sub_str):\n",
    "    updateString += '*'\n",
    "    indx += 1\n",
    "        \n",
    "updateString += sub_str\n",
    "indx = my_str.index(sub_str)\n",
    "while indx < len(my_str)-1:\n",
    "    updateString += '*'\n",
    "    indx += 1\n",
    "    \n",
    "print(updateString)"
   ]
  },
  {
   "cell_type": "code",
   "execution_count": 64,
   "id": "e06956c7",
   "metadata": {},
   "outputs": [
    {
     "name": "stdout",
     "output_type": "stream",
     "text": [
      "['This', ' is', ' Python class']\n"
     ]
    }
   ],
   "source": [
    "# Q. Write a python program to find below output using loop:-\n",
    "# Input:- 'This is Python class' , sep = ' is' ,\n",
    "# Output:- [ 'This' , 'is' , 'Python class' ]\n",
    "\n",
    "my_str = 'This is Python class'\n",
    "sepr = ' is'\n",
    "lstq = my_str.split(' is')\n",
    "\n",
    "lstq.insert(1, sepr)\n",
    "print(lstq)    "
   ]
  },
  {
   "cell_type": "code",
   "execution_count": null,
   "id": "79c4b01a",
   "metadata": {},
   "outputs": [],
   "source": []
  }
 ],
 "metadata": {
  "kernelspec": {
   "display_name": "Python 3",
   "language": "python",
   "name": "python3"
  },
  "language_info": {
   "codemirror_mode": {
    "name": "ipython",
    "version": 3
   },
   "file_extension": ".py",
   "mimetype": "text/x-python",
   "name": "python",
   "nbconvert_exporter": "python",
   "pygments_lexer": "ipython3",
   "version": "3.8.8"
  }
 },
 "nbformat": 4,
 "nbformat_minor": 5
}
